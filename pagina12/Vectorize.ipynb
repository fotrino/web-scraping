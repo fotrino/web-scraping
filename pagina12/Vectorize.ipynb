{
 "cells": [
  {
   "cell_type": "code",
   "execution_count": null,
   "id": "e37da41e-0bc2-4b19-9be6-7830ab30c761",
   "metadata": {},
   "outputs": [],
   "source": [
    "import json\n",
    "import joblib\n",
    "import pandas as pd\n",
    "\n",
    "from utils.tokenizers import tokenizador\n",
    "from sklearn.feature_extraction.text import CountVectorizer\n",
    "from typing import List"
   ]
  },
  {
   "cell_type": "code",
   "execution_count": 26,
   "id": "1cd177e6-630b-4c85-a92f-b43c2e0b7ce8",
   "metadata": {},
   "outputs": [],
   "source": [
    "economy = json.load(open(\"economy-articles.json\", encoding=\"utf-8\"))\n",
    "society = json.load(open(\"society-articles.json\", encoding=\"utf-8\"))\n",
    "world = json.load(open(\"world-articles.json\", encoding=\"utf-8\"))"
   ]
  },
  {
   "cell_type": "code",
   "execution_count": 29,
   "id": "ca0422d6-911a-48f5-a21b-01c058cfeddf",
   "metadata": {},
   "outputs": [
    {
     "data": {
      "text/plain": [
       "(9900, 8)"
      ]
     },
     "execution_count": 29,
     "metadata": {},
     "output_type": "execute_result"
    }
   ],
   "source": [
    "df_economy = pd.DataFrame.from_dict(economy)\n",
    "df_society = pd.DataFrame.from_dict(society)\n",
    "df_world = pd.DataFrame.from_dict(world)\n",
    "df_news = df_economy.append(df_society).append(df_world)\n",
    "df_news.shape"
   ]
  },
  {
   "cell_type": "code",
   "execution_count": 30,
   "id": "bf7f4a96-e119-4974-ad04-ac5bdf66841b",
   "metadata": {},
   "outputs": [],
   "source": [
    "def leer_stopwords(path: str) -> List[str]:\n",
    "    with open(path, \"rt\") as stopwords_file:\n",
    "        return [stopword for stopword in [stopword.strip().lower() for stopword in stopwords_file] if len(stopword) > 0]\n",
    "    \n",
    "mi_lista_stopwords = leer_stopwords(\"utils/stopwords_es_sin_acentos.txt\")"
   ]
  },
  {
   "cell_type": "code",
   "execution_count": 35,
   "id": "ca01ad3c-d863-46a9-a195-ec5fd20fa954",
   "metadata": {},
   "outputs": [],
   "source": [
    "vectorizer = CountVectorizer(stop_words=mi_lista_stopwords, tokenizer=tokenizador(),\n",
    "                             lowercase=True, strip_accents='unicode', decode_error='ignore',\n",
    "                             ngram_range=(1, 2), min_df=3, max_df=0.8)"
   ]
  },
  {
   "cell_type": "code",
   "execution_count": 36,
   "id": "9c0a05a1-0da3-48ce-a8d8-16aec9502614",
   "metadata": {},
   "outputs": [],
   "source": [
    "vectores = vectorizer.fit_transform(df_news['article'])\n",
    "features_names = vectorizer.get_feature_names()"
   ]
  },
  {
   "cell_type": "code",
   "execution_count": 37,
   "id": "8cbac5ce-c4d0-4f29-b23b-115efed913b1",
   "metadata": {},
   "outputs": [
    {
     "data": {
      "text/plain": [
       "['features.joblib']"
      ]
     },
     "execution_count": 37,
     "metadata": {},
     "output_type": "execute_result"
    }
   ],
   "source": [
    "joblib.dump(vectores, \"vectores.joblib\")\n",
    "joblib.dump(df_news['section'], \"targets.joblib\")\n",
    "joblib.dump(features_names, \"features.joblib\")"
   ]
  },
  {
   "cell_type": "code",
   "execution_count": 38,
   "id": "59425ce9-2d8d-4db9-8351-c326145adaec",
   "metadata": {},
   "outputs": [
    {
     "data": {
      "text/plain": [
       "<9900x201614 sparse matrix of type '<class 'numpy.int64'>'\n",
       "\twith 3448523 stored elements in Compressed Sparse Row format>"
      ]
     },
     "execution_count": 38,
     "metadata": {},
     "output_type": "execute_result"
    }
   ],
   "source": [
    "vectores"
   ]
  },
  {
   "cell_type": "code",
   "execution_count": null,
   "id": "20cc2ebc-684c-4f41-b8ed-4ef0d93afb03",
   "metadata": {},
   "outputs": [],
   "source": []
  }
 ],
 "metadata": {
  "kernelspec": {
   "display_name": "Python 3 (ipykernel)",
   "language": "python",
   "name": "python3"
  },
  "language_info": {
   "codemirror_mode": {
    "name": "ipython",
    "version": 3
   },
   "file_extension": ".py",
   "mimetype": "text/x-python",
   "name": "python",
   "nbconvert_exporter": "python",
   "pygments_lexer": "ipython3",
   "version": "3.8.11"
  }
 },
 "nbformat": 4,
 "nbformat_minor": 5
}
