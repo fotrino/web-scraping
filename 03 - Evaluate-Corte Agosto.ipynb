{
 "cells": [
  {
   "cell_type": "code",
   "execution_count": 4,
   "metadata": {},
   "outputs": [],
   "source": [
    "import joblib\n",
    "import datetime\n",
    "import numpy as np\n",
    "from typing import Dict\n",
    "from sklearn.preprocessing import LabelEncoder, label_binarize\n",
    "from sklearn.ensemble import GradientBoostingClassifier\n",
    "from sklearn.model_selection import StratifiedKFold\n",
    "from sklearn.metrics import confusion_matrix, roc_curve, accuracy_score, auc\n",
    "from sklearn.feature_selection import SelectKBest, chi2\n",
    "from sklearn.multiclass import OneVsRestClassifier"
   ]
  },
  {
   "cell_type": "code",
   "execution_count": 5,
   "metadata": {},
   "outputs": [],
   "source": [
    "def _calcular_auc_por_clase(targets_reales:np.ndarray, targets_preds:np.ndarray) -> Dict[int, float]:\n",
    "    \"\"\"\n",
    "    Computa la curva ROC y AUC para cada clase.\n",
    "    :param targets_reales: Un vector de targets reales representados en 1-hot encoding.\n",
    "    :param targets_preds: Un vector de targets predichos representados en 1-hot encoding.\n",
    "    :return: Un diccionario de indice de categoria -> AUC de esa categoria\n",
    "    \"\"\"\n",
    "    fpr = dict()\n",
    "    tpr = dict()\n",
    "    roc_auc = dict()\n",
    "    n_clases = targets_preds.shape[1]\n",
    "    for i in range(n_clases):\n",
    "        fpr[i], tpr[i], _ = roc_curve(targets_reales[:, i], targets_preds[:, i])\n",
    "        roc_auc[i] = auc(fpr[i], tpr[i])\n",
    "    return roc_auc\n",
    "\n",
    "\n",
    "def calcular_e_imprimir_auc(clasificador, X_train_selected, train_targets_binarios_por_clase, X_test_selected, test_targets_binarios_por_clase):\n",
    "    \"\"\"\n",
    "    Calcular e imprime el AUC para cada categoria, utilizando el clasificador y los folds de entrenamiento y test.\n",
    "    :param clasificador: Un clasificador de scikit-learn.\n",
    "    :param X_train_selected: Fold de entrenamiento\n",
    "    :param train_targets_binarios_por_clase: Categorias del fold de entrenamiento, en 1-hot encoding.\n",
    "    :param X_test_selected: Fold de test\n",
    "    :param test_targets_binarios_por_clase: Categorias del fold de test, en 1-hot encoding.\n",
    "    \"\"\"\n",
    "    # entrenar 1 clasificador por categoria usando \"one vs. rest\", usamos esto para calcular AUC\n",
    "    classificador_por_clase = OneVsRestClassifier(clasificador)\n",
    "    # targets_preds_por_clase es una matriz donde cada fila es un vector, y cada columna es el score del clasifcador para cada categoria para la fila correspondiente de X_test_selected\n",
    "    targets_preds_por_clase = classificador_por_clase.fit(X_train_selected, train_targets_binarios_por_clase).predict(X_test_selected)\n",
    "    for idx_clase, valor_auc in _calcular_auc_por_clase(test_targets_binarios_por_clase, targets_preds_por_clase).items():\n",
    "        print(\"\\tAUC para la clase #{} ({}) = {}\".format(idx_clase, idx_a_clase[idx_clase], valor_auc))\n",
    "\n",
    "def pesos_de_features(score_fn, X_train, y_train) -> np.ndarray:\n",
    "    scores =  np.empty((X_train.shape[1]),dtype=float)\n",
    "    for i in range(0,X_train.shape[1]):\n",
    "        scores[i] = score_fn(X_train[:,i],y_train)[0]\n",
    "    return scores\n",
    "\n",
    "def imprimir_features_con_pesos(score_fn, X_train, y_train, nombres_features, top_n=-1):\n",
    "    \"\"\"\n",
    "    Esta funcion evalua que tan bien cada columna de un dataset sirve para clasificar ese dataset.\n",
    "    :param score_fn: una funcion que pueda tomar una columna de feature y la columna de categoria, y calcular un score que mida que tan bien esa columna predice las categorias. Puede ser cualquier funcion dentro de sklearn.feature_selection como chi2, mutual_info_classif, o relief (si agregan relief con pip install sklearn-relief)\n",
    "    :train_target_fold: una matriz con columnas a evaluar, excluyend la columna de categoria de cada fila.\n",
    "    :y_train: un arreglo con el valor  categoria de  cada fila en :train_target_fold.\n",
    "    :nombre_features: Los nombres de c/columna en train_target_fold.\n",
    "    :top_n: cuantos de los mejores scores imprimir. -1 imprime todos.\n",
    "    \"\"\"\n",
    "    pesos_features = pesos_de_features(score_fn, X_train, y_train)\n",
    "    # conseguir los indices que ordenarian a \"pesos\". Como argsort solo ordena en orden ascendente, damos vuelta el arreglo\n",
    "    indice_orden_desc_pesos = np.argsort(pesos_features)[::-1]\n",
    "    if top_n == -1:\n",
    "        top_n = X_train.shape[1]\n",
    "    for i in range(0,top_n):\n",
    "        print(nombres_features[indice_orden_desc_pesos[i]],'\\t',pesos_features[indice_orden_desc_pesos[i]])\n",
    "\n",
    "\n",
    "def nombres_features_seleccionadas(selector_features, nombres_features):\n",
    "    \"\"\"\n",
    "    Esta funcion retorna los nombres de las columnas seleccionadas como mejores por selector_features.\n",
    "    :param  selector_features: Una funcion de sklearn que puede evaluar los scores de columna y seleccionar las mejores. Puede ser SelectKBest, GenericUnivariateSelect o SelectPercentile.\n",
    "    :param  nombres_features: Una lista de nombres de columnas. El orden de las columnas tiene que ser el mismo que el de la matriz con la que se evaluo a selector_features.\n",
    "    :return new_features: Una lista de nombres de features que se corresponde con las seleccionadas por selector_features.\n",
    "    \"\"\"\n",
    "    cols = selector_features.get_support()\n",
    "    new_features = []\n",
    "    for selected, feature in zip(cols, nombres_features):\n",
    "        if selected:\n",
    "            new_features.append(feature)\n",
    "    return new_features"
   ]
  },
  {
   "cell_type": "markdown",
   "metadata": {},
   "source": [
    "### Leer Dataset"
   ]
  },
  {
   "cell_type": "code",
   "execution_count": 6,
   "metadata": {},
   "outputs": [],
   "source": [
    "vectores = joblib.load(\"vectores.joblib\")\n",
    "nombres_targets = joblib.load(\"targets.joblib\")\n",
    "nombres_features = joblib.load(\"features.joblib\")"
   ]
  },
  {
   "cell_type": "markdown",
   "metadata": {},
   "source": [
    "### Convertir Categorias\n",
    "\n",
    "Pasar categorias a numeros (1ra categoria = 0, 2da categoria = 1, etc).\n",
    "\n",
    "Transformar los targets en N columnas, 1 por cada categoria, donde la categoria correcta tiene un 1 y todas las demas columnas en esa fila tienen 0.\n",
    "\n",
    "Dado que AUC se calcula sobre 2 categorias, Usamos esto luego para calcular 1 AUC por cada categoria"
   ]
  },
  {
   "cell_type": "code",
   "execution_count": 7,
   "metadata": {},
   "outputs": [],
   "source": [
    "label_encoder = LabelEncoder()\n",
    "\n",
    "targets = label_encoder.fit_transform(nombres_targets['section'])\n",
    "\n",
    "idx_a_clase = label_encoder.classes_\n",
    "\n",
    "n_categorias = len(idx_a_clase)\n",
    "\n",
    "targets_binarios_por_clase = label_binarize(targets, classes=range(0, n_categorias))"
   ]
  },
  {
   "cell_type": "markdown",
   "metadata": {},
   "source": [
    "### Separacion en Train/Test"
   ]
  },
  {
   "cell_type": "code",
   "execution_count": 8,
   "metadata": {},
   "outputs": [],
   "source": [
    "train_index = nombres_targets['date']<datetime.datetime(2021,8,1)\n",
    "X_train = vectores[train_index]\n",
    "y_train = targets[train_index]\n",
    "\n",
    "test_index = nombres_targets['date']>=datetime.datetime(2021,8,1)\n",
    "X_test = vectores[test_index]\n",
    "y_test = targets[test_index]"
   ]
  },
  {
   "cell_type": "markdown",
   "metadata": {},
   "source": [
    "### Entreno el Modelo"
   ]
  },
  {
   "cell_type": "code",
   "execution_count": 9,
   "metadata": {},
   "outputs": [],
   "source": [
    "clasificador = GradientBoostingClassifier(n_estimators=500, random_state=1234)\n",
    "\n",
    "MAX_FEATURES=2000\n",
    "\n",
    "# Seleccionar Features\n",
    "selector_features = SelectKBest(score_func=chi2, k=MAX_FEATURES)\n",
    "selector_features.fit(X_train, y_train)\n",
    "X_train_selected = selector_features.transform(X_train)\n",
    "X_test_selected = selector_features.transform(X_test)\n",
    "selector_features.get_support()\n",
    "\n",
    "preds_fold = clasificador.fit(X_train_selected, y_train).predict(X_test_selected)"
   ]
  },
  {
   "cell_type": "markdown",
   "metadata": {},
   "source": [
    "### Resultados"
   ]
  },
  {
   "cell_type": "code",
   "execution_count": 10,
   "metadata": {},
   "outputs": [
    {
     "name": "stdout",
     "output_type": "stream",
     "text": [
      "Instancias Train = 8681\n",
      "Instancias Test = 1219\n"
     ]
    }
   ],
   "source": [
    "print(\"Instancias Train = {}\\nInstancias Test = {}\".format(X_train.shape[0], X_test_selected.shape[0]))"
   ]
  },
  {
   "cell_type": "markdown",
   "metadata": {},
   "source": [
    "#### Features Seleccionadas"
   ]
  },
  {
   "cell_type": "code",
   "execution_count": 11,
   "metadata": {},
   "outputs": [
    {
     "name": "stdout",
     "output_type": "stream",
     "text": [
      "['abastecimiento', 'abdo', 'abdo benitez', 'abril dni', 'abuso', 'abuso sexual', 'acceder', 'acciones', 'acreedores', 'actas', 'actividad', 'actividad economica', 'activos', 'actos', 'actualizacion', 'acuerdo', 'acuerdo precios', 'acuerdos', 'acumulado', 'acusacion', 'acusaciones', 'acusado', 'acuso', 'ademas dia', 'adicional', 'administracion federal', 'adolescentes', 'adquisitivo', 'advirtio', 'afganistan', 'afip', 'afirmo', 'agencia', 'agentes', 'agosto', 'agravado', 'agregado', 'agricultura', 'agro', 'agroindustria', 'agroindustrial', 'ahora', 'ahorro', 'aire', 'aires', 'aires alrededores', 'aires casos', 'aires pronostico', 'aires se', 'aisladas', 'ajuste', 'al candidato', 'al capitolio', 'al ciento', 'al consumidor', 'al dolar', 'al exterior', 'al gobierno', 'al hospital', 'al lugar', 'al menos', 'al mercado', 'al precio', 'al presidente', 'al pueblo', 'al sector', 'al socialismo', 'alberto', 'alberto fernandez', 'alcalde', 'alcaldes', 'alcanzados', 'alemania', 'alerta', 'algo nublado', 'aliado', 'aliados', 'alianza', 'alicuota', 'alimentar', 'alimentos', 'alimentos bebidas', 'alquiler', 'alquileres', 'alrededores', 'alto', 'alvaro', 'alza', 'alza del', 'alzas', 'amazonia', 'amba', 'amenaza', 'amenazas', 'america', 'america latina', 'amnistia', 'ampliacion', 'andres', 'andres arauz', 'anez', 'anmat', 'ano', 'ano anterior', 'anos', 'anses', 'anses armo', 'anses consultarse', 'anterior', 'anticuerpos', 'anual', 'anuales', 'anuncio', 'aporte', 'aporte solidario', 'aportes', 'apoyo', 'arauz', 'arce', 'area', 'area metropolitana', 'argentina', 'argentina mundo', 'argentina se', 'argentinas', 'argentinos', 'arma', 'armadas', 'armados', 'armas', 'armenia', 'artigas', 'asado', 'asalto', 'asalto al', 'asamblea', 'asamblea nacional', 'ascendio tanto', 'aseguro', 'asesinato', 'asesor', 'asignacion', 'asignacion universal', 'asignaciones', 'assange', 'astrazeneca', 'ataque', 'ataques', 'atencion', 'atp', 'auh', 'aumentar', 'aumento', 'aumento ciento', 'aumento del', 'aumentos', 'aunque', 'automotriz', 'autoridad monetaria', 'autoridades', 'autos', 'avanzo', 'ayuso', 'azerbaiyan', 'baja', 'baja ciento', 'bajante', 'bancarias', 'banco', 'banco central', 'banco nacion', 'bancos', 'banderas', 'barack', 'barack obama', 'bares', 'barrio', 'barrio porteno', 'basica', 'basterra', 'bcra', 'bebidas', 'beneficiarios', 'beneficio', 'beneficios', 'bennett', 'biden', 'biden se', 'bienes', 'bienes personales', 'bienes servicios', 'bimestre', 'biontech', 'bitcoin', 'blanca', 'blinken', 'bloqueo', 'blue', 'blue hoy', 'bogota', 'boletin', 'boletin oficial', 'bolivia', 'boliviana', 'boliviano', 'bolivianos', 'bolsa', 'bolsa nueva', 'bolsa portena', 'bolsonaro', 'bomberos', 'bonaerense', 'bonar', 'bonistas', 'bono', 'bonos', 'boris', 'boris johnson', 'brasil', 'brasilena', 'brasileno', 'brasilenos', 'brasilia', 'brecha', 'brecha cambiaria', 'britanica', 'britanico', 'brote', 'brote se', 'brutos', 'buenos', 'buenos aires', 'busqueda', 'caa', 'caba', 'cadena', 'cadenas', 'cafiero', 'caida', 'caida del', 'caidas', 'calendario pagos', 'cali', 'califico', 'calle', 'calles', 'calzado', 'camacho', 'camara argentina', 'camara representantes', 'camas', 'camas uti', 'cambiaria', 'cambiarias', 'cambiario', 'cambiemos', 'cambio', 'cambio oficial', 'cambios', 'came', 'campana', 'campana electoral', 'campana vacunacion', 'canasta', 'canasta basica', 'canciller', 'candidata', 'candidato', 'candidato del', 'candidato democrata', 'candidato presidencial', 'candidatos', 'candidatura', 'canje', 'capacidad', 'capacidad instalada', 'capital', 'capitales', 'capitolio', 'carabineros', 'carcel', 'cargo', 'cargos', 'carla', 'carla vizzotti', 'carlos mesa', 'carne', 'carne vacuna', 'carnes', 'carta', 'casa', 'casa blanca', 'casi ciento', 'casos', 'casos comenzo', 'casos coronavirus', 'casos positivos', 'castillo', 'categoria', 'categorias', 'catolica', 'causa', 'ccl', 'celulas', 'centavos', 'central', 'centro', 'cereales', 'ceremonia', 'cerro', 'certificado', 'chano', 'chauvin', 'chile', 'chilena', 'chileno', 'chilenos', 'china', 'chocobar', 'chubut', 'cielo', 'cielo ira', 'cielo mayormente', 'cielo parcialmente', 'cientifica', 'cientificos', 'ciento', 'ciento anual', 'ciento area', 'ciento debajo', 'ciento del', 'ciento empresas', 'ciento este', 'ciento inflacion', 'ciento interanual', 'ciento mas', 'ciento nivel', 'ciento relacion', 'ciento respectivamente', 'ciento respecto', 'ciento se', 'ciento votos', 'cientos', 'cifra victimas', 'cine', 'circulacion', 'cisjordania', 'ciudad', 'ciudad buenos', 'ciudadana', 'ciudadanos', 'ciudades', 'civil', 'civiles', 'clase', 'clases', 'clases presenciales', 'clima buenos', 'clinica', 'clinton', 'club paris', 'cne', 'cnn', 'coalicion', 'cobran', 'cobro', 'cobro todas', 'cohetes', 'colectivo', 'colegio electoral', 'colocacion', 'colombia', 'colombiana', 'colombiano', 'colombianos', 'combustibles', 'comercial', 'comercializacion', 'comercio', 'comercio exterior', 'comercio interior', 'comercios', 'comicios', 'comisaria', 'comision', 'commodities', 'comparacion', 'comparacion interanual', 'competitividad', 'compra', 'compra dolares', 'compra venta', 'compradores', 'compras', 'comunidad', 'comunidad internacional', 'comunista', 'condena', 'condenado', 'condiciones', 'conferencia', 'conferencia prensa', 'confinamiento', 'confirmados', 'confirmo', 'confirmo ultimas', 'conflicto', 'congelamiento', 'congresista', 'congresistas', 'congreso', 'conicet', 'consejo agroindustrial', 'conservador', 'conservadores', 'constitucion', 'constitucional', 'constituyente', 'construccion', 'consultarse', 'consultarse traves', 'consumidor', 'consumidores', 'consumo', 'consumo interno', 'consumo masivo', 'contacto', 'contado', 'contado liquidacion', 'contagios', 'contagios comienzo', 'conte', 'conteo', 'contexto', 'continente', 'contra', 'contra coronavirus', 'contra covid', 'contratos', 'contribuyentes', 'cooperativas', 'copal', 'cordoba', 'coronavirus', 'coronavirus argentina', 'correa', 'correccional', 'correismo', 'corrupcion', 'corte', 'corte suprema', 'cortes', 'cosachov', 'cosecha', 'costo', 'costos', 'cotiza', 'cotizacion', 'cotizacion del', 'cotizaciones', 'cotizan', 'cov', 'covid', 'cpi', 'crecimiento', 'crecimiento del', 'crecio', 'crecio ciento', 'credito', 'creditos', 'creo', 'crimen', 'crimenes', 'crisis', 'criticas', 'cronogramas', 'cronogramas cobro', 'cuanto cotiza', 'cuba', 'cubano', 'cuenta twitter', 'cuentas', 'cuerpo', 'cuota', 'cuotas', 'da silva', 'dato', 'debajo', 'debajo del', 'debito', 'decenas', 'decesos', 'decision', 'declaro', 'default', 'defender', 'defensa', 'deficit', 'deficit fiscal', 'deg', 'del agro', 'del ano', 'del aporte', 'del banco', 'del barrio', 'del bcra', 'del brote', 'del candidato', 'del capitolio', 'del ciento', 'del congreso', 'del conicet', 'del conocimiento', 'del consumo', 'del coronavirus', 'del credito', 'del dolar', 'del domingo', 'del ejercito', 'del este', 'del expresidente', 'del fmi', 'del fondo', 'del gas', 'del gasto', 'del gobierno', 'del golpe', 'del hospital', 'del impuesto', 'del indec', 'del indice', 'del ingreso', 'del maiz', 'del mandatario', 'del mas', 'del mercado', 'del mes', 'del monotributo', 'del movimiento', 'del mundo', 'del noreste', 'del organismo', 'del pago', 'del pais', 'del parlamento', 'del partido', 'del pbi', 'del pib', 'del plata', 'del pont', 'del precio', 'del presidente', 'del programa', 'del pt', 'del pueblo', 'del salario', 'del sars', 'del sector', 'del senado', 'del tesoro', 'del tipo', 'del total', 'del virus', 'delito', 'delta', 'demanda', 'democracia', 'democrata', 'democrata joe', 'democratas', 'democratica', 'democratico', 'dengue', 'denuncia', 'denuncias', 'denuncio', 'departamento', 'depositos', 'derecha', 'derechista', 'derechos', 'derechos exportacion', 'derechos humanos', 'derrota', 'desarrollo', 'desarrollo productivo', 'desarrollo territorial', 'despejado', 'despues', 'destitucion', 'detectaron', 'detencion', 'detenido', 'detenidos', 'deuda', 'deuda externa', 'deuda pesos', 'deuda publica', 'deudas', 'devaluacion', 'devolucion', 'dia', 'dia hoy', 'dia mundial', 'diagnosticas', 'diagnosticas enfermedad', 'dias', 'diaz ayuso', 'diciembre', 'diciembre dni', 'dictadura', 'dijo', 'dilma', 'dinamica', 'diplomacia', 'diplomatico', 'directorio', 'dirigente', 'dirigentes', 'discurso', 'disparos', 'distribuidoras', 'disturbios', 'diversidad', 'divisa', 'divisas', 'dni', 'dni terminados', 'docente', 'docentes', 'dolar', 'dolar ahorro', 'dolar blue', 'dolar oficial', 'dolar paralelo', 'dolar se', 'dolares', 'dolares mercado', 'dolares se', 'dolares tonelada', 'dolor', 'dolores', 'dolores etchevehere', 'domingo', 'donald', 'donald trump', 'doria', 'dosis', 'dosis vacuna', 'draghi', 'duque', 'durante', 'duro', 'economia', 'economia argentina', 'economia del', 'economia martin', 'economias', 'economias regionales', 'economica', 'economicas', 'economico', 'economico social', 'economicos', 'economista', 'economistas', 'ecuador', 'ecuatoriana', 'ecuatoriano', 'edad', 'edenor', 'edesur', 'edificio', 'ee', 'ee uu', 'eeuu', 'efemerides', 'efemerides del', 'efemerides hoy', 'eficacia', 'ejercito', 'eleccion', 'elecciones', 'elecciones del', 'elecciones presidenciales', 'electo', 'electoral', 'electorales', 'electores', 'electrica', 'electricidad', 'electrodomesticos', 'eleva cifra', 'ella', 'embajada', 'embargo', 'emision', 'emmanuel', 'emmanuel macron', 'empresa', 'empresaria', 'empresarios', 'empresas', 'encuestas', 'endeudamiento', 'energetica', 'energia', 'enero', 'enero dni', 'enfermedad', 'enfermedad hay', 'enfermedades', 'enfrentamientos', 'enlace', 'enre', 'ensayos', 'entidad', 'entidades', 'epp', 'equipo economico', 'equivalente', 'erdogan', 'escanos', 'escenario', 'escribio', 'escrutinio', 'escuela', 'escuelas', 'espacial', 'espana', 'espanola', 'especies', 'especulacion', 'esperanza', 'espionaje', 'esposa', 'esquema', 'estabilidad', 'establishment', 'estados', 'estados unidos', 'estadounidense', 'estadounidenses', 'estallido', 'estallido social', 'estas elecciones', 'este', 'este ano', 'este dolar', 'este domingo', 'este pais', 'este sabado', 'estimaciones', 'estos hechos', 'estos registros', 'estudio', 'etchevehere', 'europa', 'europea', 'europeo', 'europeos', 'evasion', 'evo', 'evo morales', 'evolucion', 'exigio', 'exmandatario', 'exministro', 'expectativas', 'expectativas devaluacion', 'expertos', 'explica', 'exportacion', 'exportaciones', 'exportaciones carne', 'exportador', 'exportadores', 'exportar', 'expresidenta', 'expresidente', 'expresion', 'exterior', 'exteriores', 'externa', 'externo', 'externos', 'extradicion', 'extranjera', 'extraordinario', 'extrema', 'extrema derecha', 'exvicepresidente', 'facebook', 'facilidades', 'facto', 'facturacion', 'facturas', 'fallecidos', 'fallecimientos', 'fallecimientos se', 'fallecio', 'familia', 'fauci', 'favor', 'fe', 'febrero', 'febrero dni', 'fechas cobro', 'federal ingresos', 'femicidio', 'femicidios', 'fernandez', 'fija', 'financiamiento', 'financiar', 'financiera', 'financieras', 'financiero', 'financieros', 'finanzas', 'firma', 'firmas', 'fiscal', 'fiscalia', 'fiscalizacion', 'florida', 'floyd', 'fmi', 'fondo', 'fondo monetario', 'fondos', 'formula', 'fortunas', 'frances', 'francia', 'francisco', 'franja gaza', 'fraude', 'fraude electoral', 'frente', 'frente amplio', 'frente todos', 'frigorificos', 'frio', 'frontera', 'fronteras', 'frutas', 'ftc', 'fuego', 'fuentes judiciales', 'fuerte', 'fuerza', 'fuerzas', 'fuerzas armadas', 'fuerzas seguridad', 'fujimori', 'fujimorismo', 'fujimorista', 'funes', 'funes rioja', 'g20', 'gabinete', 'gabinete economico', 'ganador', 'ganancias', 'ganar', 'gano', 'gas', 'gas natural', 'gasto', 'gastos', 'gaza', 'generar', 'genero', 'generos', 'genocida', 'genocidio', 'gente', 'george', 'george floyd', 'georgia', 'georgieva', 'global', 'gobernadores', 'gobierno', 'gobierno alberto', 'gobierno cambiemos', 'gobierno ciudad', 'gobierno del', 'gobierno facto', 'gobierno macri', 'gobierno mauricio', 'gobierno nacional', 'gobierno porteno', 'gobiernos', 'golpe', 'golpe contra', 'golpista', 'gomez', 'gondola', 'gondolas', 'grados', 'grados maxima', 'grados minima', 'gran', 'grandes', 'grandes fortunas', 'granos', 'grave', 'graves', 'grupos', 'guadalupe', 'guaido', 'guayaquil', 'guerra', 'guillermo lasso', 'guzman', 'haber', 'haberes', 'habia', 'habian', 'habitantes', 'hablo', 'hacienda', 'haiti', 'hallado', 'hallazgo', 'hamas', 'han', 'han sido', 'harris', 'hasta ciento', 'hay momento', 'he', 'hecho', 'hechos', 'hechos ocurrieron', 'hemos', 'heridos', 'herramientas', 'hidrovia', 'hija', 'historia', 'hizo', 'hogares', 'hombre', 'homicidio', 'horas', 'horas numero', 'hospital', 'hospitales', 'hoy argentina', 'hoy cuanto', 'hoy paso', 'humanidad', 'humanitaria', 'humanos', 'i12', 'identidad genero', 'ife', 'iglesia', 'iglesias', 'igual mes', 'imagen', 'imagenes', 'impacto', 'impeachment', 'imponible', 'importaciones', 'impositiva', 'impuesto', 'impuesto ganancias', 'impuestos', 'imputado', 'incendio', 'incentivos', 'incidentes', 'incrementar', 'incremento', 'incremento ciento', 'incremento del', 'incrementos', 'indec', 'india', 'indicador', 'indicadores', 'indice', 'indice precios', 'indigena', 'indigenas', 'indigencia', 'indumentaria', 'industria', 'industrial', 'industriales', 'industrias', 'infeccion', 'inflacion', 'inflacion del', 'inflacionaria', 'informe', 'informo servicio', 'inglaterra', 'ingreso', 'ingresos', 'ingresos brutos', 'ingresos publicos', 'inmigrantes', 'inmuebles', 'inmunizacion', 'inquilinos', 'instalada', 'instrumentos', 'insumos', 'inteligencia', 'intencion voto', 'intensiva', 'intensiva camas', 'interanual', 'interanual ciento', 'interanual del', 'interanuales', 'interes', 'intereses', 'internacion', 'internacionales', 'internadas', 'internadas unidades', 'internados', 'interno', 'inversion', 'inversiones', 'inversores', 'investigacion', 'investigadores', 'ipc', 'irak', 'iran', 'isla', 'israel', 'israeli', 'israelies', 'italia', 'iva', 'ivan', 'ivan duque', 'ive', 'izquierda', 'jair', 'jair bolsonaro', 'janeiro', 'jeanine', 'jeanine anez', 'jefe', 'jefe del', 'jerusalen', 'joao', 'joe', 'joe biden', 'johnson', 'jornada cielo', 'joseph', 'joven', 'jovenes', 'juan', 'jubilaciones', 'jubilados', 'jubilados pensionados', 'jueves octubre', 'juicio', 'juicio politico', 'julio dni', 'junio', 'junio dni', 'jurisdicciones', 'justicia', 'kamala', 'kamala harris', 'karabaj', 'keiko', 'keiko fujimori', 'kristalina', 'kristalina georgieva', 'kukoc', 'kulfas', 'laboral', 'laboratorio', 'lacalle', 'lacalle pou', 'larreta', 'lasso', 'latina', 'lenin', 'lenin moreno', 'lesiones', 'ley', 'ley movilidad', 'liberacion', 'libertad', 'libertad expresion', 'licitacion', 'lider', 'lider del', 'lideres', 'lima', 'linea', 'lineas', 'liquidacion', 'liquidez', 'litio', 'llamado', 'llamando al', 'llamo', 'llego', 'lluvias', 'lluvias aisladas', 'localidad', 'londres', 'lopez', 'lopez obrador', 'lucero', 'lucha', 'lucha contra', 'lugar', 'luis arce', 'luis miguel', 'lula', 'lula da', 'luna', 'luque', 'm5s', 'macri', 'macrismo', 'macrista', 'macroeconomica', 'macron', 'madre', 'madrid', 'madrugada', 'maduro', 'magnate', 'maiz', 'mama', 'manana', 'mandatario', 'mandato', 'manifestaciones', 'manifestantes', 'manufacturera', 'maquinaria', 'mar', 'mar del', 'maradona', 'marcas', 'marcas termicas', 'marco', 'marco del', 'martin', 'martin guzman', 'marzo', 'marzo dni', 'mas', 'masacres', 'mascarilla', 'masivas', 'massa', 'materia', 'materias', 'materias primas', 'matias', 'matias kulfas', 'mauricio', 'mauricio macri', 'maxima', 'maxima grados', 'maximos', 'mayo dni', 'mayor', 'mayores anos', 'mayoria', 'mayorista', 'mayoristas', 'mayormente', 'mayormente nublado', 'me', 'medianas', 'mediano', 'mediano plazo', 'medica', 'medico', 'medicos', 'medida', 'medidas', 'medio', 'medios', 'mejora', 'mejorar', 'menor', 'mensaje', 'mensual', 'mensuales', 'mental', 'mep', 'mercado', 'mercado cambiario', 'mercado cambios', 'mercado interno', 'mercado local', 'mercados', 'mercedes marco', 'merino', 'merkel', 'merma', 'mes', 'mes consecutivo', 'mes del', 'mesa', 'mesa enlace', 'meses', 'meses del', 'meteorologico', 'meteorologico nacional', 'metropolitana buenos', 'metros', 'mexico', 'mi', 'miami', 'michigan', 'miembros', 'migrantes', 'miguel', 'miguel etchevehere', 'mike', 'mil', 'mil millones', 'mil muertos', 'mil pesos', 'miles', 'miles personas', 'milicias', 'militar', 'militares', 'millones', 'millones casos', 'millones dolares', 'millones dosis', 'millones habitantes', 'millones pesos', 'millones toneladas', 'minima', 'minima grados', 'minima maxima', 'minimo', 'ministerio', 'ministerio desarrollo', 'ministerio economia', 'ministerio salud', 'ministerio seguridad', 'ministro', 'ministro desarrollo', 'ministro economia', 'ministro salud', 'ministros', 'minoristas', 'minutos', 'mismo', 'mismo mes', 'mismo periodo', 'moise', 'momento', 'momento personas', 'moneda', 'moneda extranjera', 'moneda local', 'monetaria', 'monetario', 'monetario internacional', 'monotributistas', 'monotributo', 'monto', 'montos', 'morales', 'moratoria', 'moreno', 'morla', 'moro', 'moroni', 'mortales', 'mortales pais', 'movilidad', 'movilizacion', 'movilizaciones', 'movimiento', 'movimiento al', 'muere', 'muerte', 'muertes', 'muertes ministerio', 'muertes pacientes', 'muertos', 'muestras', 'mujer', 'mujeres', 'mujica', 'multinacionales', 'multitud', 'mundo', 'mundo efemerides', 'municipio', 'murieron', 'murio', 'myanmar', 'nace', 'nacido', 'nacion', 'nacion confirmo', 'nacional ciento', 'nacional smn', 'naciones', 'nagorno', 'nagorno karabaj', 'nasa', 'navalni', 'negociacion', 'negociaciones', 'negocio', 'nena', 'neoliberal', 'neoliberalismo', 'neta', 'netanyahu', 'netas', 'neto', 'neuquen', 'news', 'nicolas maduro', 'nina', 'nino', 'ninos', 'nivel', 'nivel actividad', 'niveles', 'no', 'noche', 'nombre', 'nominal', 'none', 'none efemerides', 'noreste', 'norte', 'norteamericano', 'noticias', 'noviembre', 'nublado', 'nublado vientos', 'nueva', 'nueva constitucion', 'nuevas variantes', 'nuevo', 'nuevo gobierno', 'nuevo presidente', 'nuevos casos', 'numero', 'numero documento', 'numero total', 'nunca', 'obama', 'objetivo', 'obligaciones', 'obra publica', 'obrador', 'obras', 'octubre', 'octubre dni', 'ocupacion', 'ocupacion camas', 'ocupadas', 'ocupadas ciento', 'ocurrieron', 'ocurrieron argentina', 'ocurrieron dia', 'oea', 'oeste', 'oferta', 'ofertas', 'oficial', 'ola', 'oms', 'onu', 'operaciones', 'operadores', 'operatoria', 'opinion', 'oposicion', 'opositor', 'oral', 'organismo', 'organizacion', 'oriente', 'oscilaran', 'oscilaran grados', 'oxigeno', 'pablo', 'pachakutik', 'paciente', 'pacientes', 'pacientes coronavirus', 'pacifica', 'padre', 'padres', 'paga', 'paga anses', 'pagar', 'pagina i12', 'pago', 'pago del', 'pagos', 'pais', 'pais mas', 'paises', 'palacio', 'palacio hacienda', 'palestina', 'palestino', 'palestinos', 'pandemia', 'pandemia ascendio', 'papa', 'papa francisco', 'paraguayo', 'paralelo', 'parcialmente', 'parcialmente nublado', 'pareja', 'paris', 'paritarias', 'parlamentaria', 'parlamentarios', 'parlamento', 'parque', 'partidarios', 'partido', 'partido comunista', 'partido democrata', 'partido republicano', 'partidos', 'pasado', 'pasivos', 'patronales', 'paula', 'paula espanol', 'paz', 'pazuello', 'pbi', 'pcr', 'pedro', 'pedro castillo', 'pedro sanchez', 'peliculas', 'pence', 'pensilvania', 'pensionados', 'pensiones', 'pequenas medianas', 'pequenos contribuyentes', 'perez', 'periodista', 'periodistas', 'periodo', 'periodo del', 'persona', 'personas', 'personas internadas', 'peru', 'peruano', 'peruanos', 'peso', 'pesos', 'pesos al', 'pesos ciento', 'pesos dolar', 'pesos se', 'petrolera', 'pfizer', 'pib', 'pidio', 'pinera', 'pinochet', 'plan', 'plan gas', 'planes', 'plata', 'plazo', 'plazos', 'plebiscito', 'poblacion', 'pobreza', 'poco', 'policia', 'policial', 'policias', 'politica', 'politica economica', 'politica exterior', 'politicas', 'politico', 'politicos', 'pompeo', 'pont', 'pontifice', 'popular', 'porcentuales', 'portavoz', 'porteno', 'posible', 'positiva', 'potenciar', 'pou', 'pp', 'practicaron', 'practicaron pruebas', 'precio', 'precio del', 'precios', 'precios al', 'precios alimentos', 'precios cuidados', 'precios del', 'precios internacionales', 'precios maximos', 'precios salarios', 'prensa', 'presencialidad', 'presidencia', 'presidencial', 'presidenciales', 'presidenta', 'presidente', 'presidente alberto', 'presidente brasil', 'presidente donald', 'presidente electo', 'presidente estados', 'presidente estadounidense', 'presidente jair', 'presidentes', 'prestacion', 'prestaciones', 'prestaciones paga', 'prestamo', 'prestamos', 'presupuesto', 'previsibilidad', 'previsional', 'primas', 'primer', 'primer ministro', 'primer trimestre', 'primera', 'primera dosis', 'primera vuelta', 'principales', 'prision', 'privado', 'privados', 'proceso', 'proceso electoral', 'produccion', 'productiva', 'productivas', 'productivo', 'productivo matias', 'productivos', 'producto', 'productores', 'productos', 'profesor', 'programa', 'programa precios', 'programas', 'progresista', 'progresistas', 'promedio', 'prometio', 'promocion', 'pronostica', 'pronostico', 'pronostico del', 'prorroga', 'protesta', 'protestas', 'proveedores', 'provincia', 'provincia buenos', 'provincial', 'provincias', 'proximo', 'proyecto', 'proyecto artigas', 'proyectos', 'pruebas', 'pruebas diagnosticas', 'pt', 'publicos', 'publicos afip', 'pueblo', 'pueblos', 'puntos', 'puntos porcentuales', 'putin', 'pyme', 'pymes', 'queda', 'quilmes', 'quiros', 'racismo', 'rafael correa', 'raverta', 'reactivacion', 'reales', 'realizados', 'rebote', 'recaudacion', 'rechazo', 'recibido', 'recibio', 'reconocio', 'recuento', 'recuperacion', 'recuperacion del', 'recuperacion economica', 'redes sociales', 'reduccion', 'reeleccion', 'reestructuracion', 'reestructuracion deuda', 'referendum', 'reforma', 'refugiados', 'regimen', 'region', 'regiones', 'registro', 'registros', 'registros suman', 'reglamentacion', 'reino', 'reino unido', 'reintegros', 'relacion', 'relaciones', 'relaciones exteriores', 'relato', 'relevamiento', 'renegociacion', 'rentabilidad', 'renuncia', 'reporte', 'reporte del', 'represion', 'repro', 'repro ii', 'republica', 'republicana', 'republicano', 'republicanos', 'reservas', 'reservas internacionales', 'resolucion', 'respaldo', 'respectivamente', 'respecto', 'respecto al', 'respecto del', 'respecto igual', 'restaurantes', 'resultado', 'retenciones', 'retroceso', 'reunion', 'revolucion', 'riesgo pais', 'rio', 'rio janeiro', 'rio negro', 'rival', 'rocca', 'roma', 'rosa', 'rosario', 'rotando', 'rotando al', 'rubro', 'rubros', 'rueda prensa', 'rusa', 'rusia', 'ruso', 'sabado', 'sagasti', 'sala', 'salarial', 'salario', 'salario minimo', 'salarios', 'saldo', 'saliente', 'salta', 'salud', 'salud confirmo', 'salud mental', 'salud nacion', 'saludo', 'san', 'san juan', 'san luis', 'san pablo', 'sanchez', 'sanciones', 'sangre', 'sanitario', 'santa fe', 'sars', 'sars cov', 'se destaco', 'se explica', 'se han', 'se practicaron', 'se pronostica', 'se registraron', 'se ubican', 'se ubico', 'sebastian pinera', 'secretaria', 'secretaria comercio', 'secretario', 'sector', 'sector privado', 'sectores', 'sectorial', 'sectoriales', 'sede', 'segmento', 'seguidores', 'segun', 'segunda', 'segunda dosis', 'segunda ola', 'segunda vuelta', 'segundo trimestre', 'seguridad', 'seguridad nacional', 'seguridad social', 'semana', 'semanas', 'semestre', 'senado', 'senador', 'senalo', 'septiembre', 'sera', 'servicio meteorologico', 'servicios', 'servicios publicos', 'sexo', 'sexual', 'sexuales', 'sido', 'siete', 'silva', 'simpatizantes', 'sinopharm', 'sintomas', 'siria', 'smn', 'smn pronostico', 'sobresalen', 'sobresalen estos', 'social', 'sociales llamando', 'socialismo', 'socialismo mas', 'socialista', 'sociedad rural', 'soja', 'solidario', 'solidario extraordinario', 'sondeos', 'sospechoso', 'sostener', 'sostenibilidad', 'sostuvo', 'sputnik', 'stock', 'suba', 'suba ciento', 'suba del', 'suba precios', 'subas', 'subieron', 'subieron ciento', 'subio', 'subio ciento', 'subsidiada', 'subsidios', 'sudoeste', 'suman casos', 'superavit', 'supermercados', 'suprema', 'supremo', 'sur', 'tanto fallecimientos', 'tarde', 'tarifa', 'tarifaria', 'tarifas', 'tarjeta', 'tarjeta alimentar', 'tarjetas', 'tasa', 'tasa interes', 'tasa subsidiada', 'tasas', 'tasas interes', 'techint', 'tehuel', 'telefonia', 'temperatura', 'temperatura minima', 'temperaturas', 'tendencia', 'tenia', 'tenia anos', 'terapia', 'terapia intensiva', 'tercer trimestre', 'tercera', 'termicas', 'terminados', 'terminados jueves', 'terminados lunes', 'terminados martes', 'terminados miercoles', 'terminados viernes', 'terminos', 'terminos reales', 'territorio', 'terrorismo', 'terrorista', 'terroristas', 'tesoro', 'test', 'testeos', 'tests inicio', 'textil', 'the', 'tigre', 'tipo', 'tipo cambio', 'titular', 'titulares', 'titulos', 'titulos publicos', 'todas prestaciones', 'todesca', 'tonelada', 'toneladas', 'tope', 'toque', 'toque queda', 'total contagios', 'trabajadoras', 'trabajadores', 'trans', 'transferencias', 'transporte', 'tratamiento', 'travesti', 'travesti trans', 'trepo', 'tribunal', 'tribunal oral', 'tribunal supremo', 'tributaria', 'tributo', 'trigo', 'trimestral', 'trimestre', 'trimestre del', 'triunfo', 'tropas', 'trump', 'trump no', 'trump se', 'tucuman', 'tuiteo', 'turquia', 'twitter', 'ubican reporte', 'ubico', 'ubico ciento', 'ubico pesos', 'ue', 'ufi', 'uia', 'ultimas', 'ultimas horas', 'ultimos', 'ultimos meses', 'ultraderecha', 'ultraderechista', 'unidades terapia', 'unidas', 'unido', 'unidos', 'unidos donald', 'union', 'union europea', 'union industrial', 'universal', 'universal embarazo', 'universal hijo', 'urnas', 'usuarios', 'uti', 'uti ocupadas', 'uu', 'uva', 'vaca', 'vaca muerta', 'vaciamiento', 'vacuna', 'vacunacion', 'vacunados', 'vacunas', 'valores', 'vargas', 'variables', 'variacion', 'variante', 'variante delta', 'variantes', 'varias', 'varios', 'vaticano', 'vecinos', 'vencimiento', 'vencimientos', 'venezolano', 'venezuela', 'venta', 'ventaja', 'ventas', 'ventilacion', 'vez', 'vicente', 'vicentin', 'vicepresidente', 'victima', 'victimas', 'victimas mortales', 'victoria', 'victoria del', 'vida', 'video', 'vientos', 'vientos del', 'vigencia', 'villa', 'violaciones', 'violencia', 'violencia genero', 'violencias', 'viral', 'virus', 'vivienda', 'vizcarra', 'vizzotti', 'vladimir', 'vladimir putin', 'volatilidad', 'volumen', 'votacion', 'votantes', 'votar', 'votaron', 'voto', 'votos', 'vox', 'vuelo', 'vuelta', 'washington', 'web redes', 'whatsapp', 'wikileaks', 'ya', 'ypf', 'zona', 'zonas']\n"
     ]
    }
   ],
   "source": [
    "print(nombres_features_seleccionadas(selector_features, nombres_features))"
   ]
  },
  {
   "cell_type": "markdown",
   "metadata": {},
   "source": [
    "#### Accuracy"
   ]
  },
  {
   "cell_type": "code",
   "execution_count": 12,
   "metadata": {},
   "outputs": [
    {
     "data": {
      "text/plain": [
       "0.911402789171452"
      ]
     },
     "execution_count": 12,
     "metadata": {},
     "output_type": "execute_result"
    }
   ],
   "source": [
    "accuracy_score(y_test, preds_fold)"
   ]
  },
  {
   "cell_type": "markdown",
   "metadata": {},
   "source": [
    "#### Matriz de Confusion\n",
    "Nota: Filas = Real - Columnas = Prediccion"
   ]
  },
  {
   "cell_type": "code",
   "execution_count": 14,
   "metadata": {},
   "outputs": [
    {
     "name": "stdout",
     "output_type": "stream",
     "text": [
      "\tAUC para la clase #0 (economy) = 0.9535565683939669\n",
      "\tAUC para la clase #1 (society) = 0.892910457815742\n",
      "\tAUC para la clase #2 (world) = 0.9310504359201385\n"
     ]
    },
    {
     "data": {
      "text/plain": [
       "array([[312,  16,   0],\n",
       "       [ 21, 558,  50],\n",
       "       [  1,  20, 241]])"
      ]
     },
     "execution_count": 14,
     "metadata": {},
     "output_type": "execute_result"
    }
   ],
   "source": [
    "calcular_e_imprimir_auc(\n",
    "    clasificador, \n",
    "    X_train_selected, \n",
    "    targets_binarios_por_clase[train_index], \n",
    "    X_test_selected, \n",
    "    targets_binarios_por_clase[test_index]\n",
    ")\n",
    "\n",
    "confusion_matrix(y_test, preds_fold)"
   ]
  },
  {
   "cell_type": "code",
   "execution_count": null,
   "metadata": {},
   "outputs": [],
   "source": []
  }
 ],
 "metadata": {
  "kernelspec": {
   "display_name": "Python 3",
   "language": "python",
   "name": "python3"
  },
  "language_info": {
   "codemirror_mode": {
    "name": "ipython",
    "version": 3
   },
   "file_extension": ".py",
   "mimetype": "text/x-python",
   "name": "python",
   "nbconvert_exporter": "python",
   "pygments_lexer": "ipython3",
   "version": "3.8.5"
  }
 },
 "nbformat": 4,
 "nbformat_minor": 5
}
