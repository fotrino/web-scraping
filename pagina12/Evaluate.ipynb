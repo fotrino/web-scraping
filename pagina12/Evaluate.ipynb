{
  "nbformat": 4,
  "nbformat_minor": 5,
  "metadata": {
    "kernelspec": {
      "display_name": "Python 3 (ipykernel)",
      "language": "python",
      "name": "python3"
    },
    "language_info": {
      "codemirror_mode": {
        "name": "ipython",
        "version": 3
      },
      "file_extension": ".py",
      "mimetype": "text/x-python",
      "name": "python",
      "nbconvert_exporter": "python",
      "pygments_lexer": "ipython3",
      "version": "3.8.11"
    },
    "colab": {
      "name": "Evaluate.ipynb",
      "provenance": []
    },
    "accelerator": "GPU"
  },
  "cells": [
    {
      "cell_type": "code",
      "metadata": {
        "id": "c21469d3-6fc0-4203-a43f-992097a9ea80"
      },
      "source": [
        "from sklearn.preprocessing import LabelEncoder, label_binarize\n",
        "from sklearn.svm import SVC\n",
        "from sklearn.model_selection import StratifiedKFold\n",
        "from sklearn.metrics import confusion_matrix, roc_curve, accuracy_score, auc\n",
        "from sklearn.multiclass import OneVsRestClassifier\n",
        "import joblib\n",
        "from sklearn.feature_selection import SelectKBest, chi2\n",
        "from typing import Dict\n",
        "import numpy as np"
      ],
      "id": "c21469d3-6fc0-4203-a43f-992097a9ea80",
      "execution_count": 1,
      "outputs": []
    },
    {
      "cell_type": "code",
      "metadata": {
        "id": "599d562d-e735-40eb-8e05-3ac62c494ee3"
      },
      "source": [
        "def _calcular_auc_por_clase(targets_reales:np.ndarray, targets_preds:np.ndarray) -> Dict[int, float]:\n",
        "    \"\"\"\n",
        "    Computa la curva ROC y AUC para cada clase.\n",
        "    :param targets_reales: Un vector de targets reales representados en 1-hot encoding.\n",
        "    :param targets_preds: Un vector de targets predichos representados en 1-hot encoding.\n",
        "    :return: Un diccionario de indice de categoria -> AUC de esa categoria\n",
        "    \"\"\"\n",
        "    fpr = dict()\n",
        "    tpr = dict()\n",
        "    roc_auc = dict()\n",
        "    n_clases = targets_preds.shape[1]\n",
        "    for i in range(n_clases):\n",
        "        fpr[i], tpr[i], _ = roc_curve(targets_reales[:, i], targets_preds[:, i])\n",
        "        roc_auc[i] = auc(fpr[i], tpr[i])\n",
        "    return roc_auc\n",
        "\n",
        "\n",
        "def calcular_e_imprimir_auc(clasificador, train_fold_selected, train_targets_binarios_por_clase, test_fold_selected, test_targets_binarios_por_clase):\n",
        "    \"\"\"\n",
        "    Calcular e imprime el AUC para cada categoria, utilizando el clasificador y los folds de entrenamiento y test.\n",
        "    :param clasificador: Un clasificador de scikit-learn.\n",
        "    :param train_fold_selected: Fold de entrenamiento\n",
        "    :param train_targets_binarios_por_clase: Categorias del fold de entrenamiento, en 1-hot encoding.\n",
        "    :param test_fold_selected: Fold de test\n",
        "    :param test_targets_binarios_por_clase: Categorias del fold de test, en 1-hot encoding.\n",
        "    \"\"\"\n",
        "    # entrenar 1 clasificador por categoria usando \"one vs. rest\", usamos esto para calcular AUC\n",
        "    classificador_por_clase = OneVsRestClassifier(clasificador)\n",
        "    # targets_preds_por_clase es una matriz donde cada fila es un vector, y cada columna es el score del clasifcador para cada categoria para la fila correspondiente de test_fold_selected\n",
        "    targets_preds_por_clase = classificador_por_clase.fit(train_fold_selected, train_targets_binarios_por_clase).predict(test_fold_selected)\n",
        "    for idx_clase, valor_auc in _calcular_auc_por_clase(test_targets_binarios_por_clase, targets_preds_por_clase).items():\n",
        "        print(\"\\tAUC para la clase #{} ({}) = {}\".format(idx_clase, idx_a_clase[idx_clase], valor_auc))\n",
        "\n",
        "def pesos_de_features(score_fn, train_fold, train_targets_fold) -> np.ndarray:\n",
        "    scores =  np.empty((train_fold.shape[1]),dtype=float)\n",
        "    for i in range(0,train_fold.shape[1]):\n",
        "        scores[i] = score_fn(train_fold[:,i],train_targets_fold)[0]\n",
        "    return scores\n",
        "\n",
        "def imprimir_features_con_pesos(score_fn, train_fold, train_targets_fold, nombres_features, top_n=-1):\n",
        "    \"\"\"\n",
        "    Esta funcion evalua que tan bien cada columna de un dataset sirve para clasificar ese dataset.\n",
        "    :param score_fn: una funcion que pueda tomar una columna de feature y la columna de categoria, y calcular un score que mida que tan bien esa columna predice las categorias. Puede ser cualquier funcion dentro de sklearn.feature_selection como chi2, mutual_info_classif, o relief (si agregan relief con pip install sklearn-relief)\n",
        "    :train_target_fold: una matriz con columnas a evaluar, excluyend la columna de categoria de cada fila.\n",
        "    :train_targets_fold: un arreglo con el valor  categoria de  cada fila en :train_target_fold.\n",
        "    :nombre_features: Los nombres de c/columna en train_target_fold.\n",
        "    :top_n: cuantos de los mejores scores imprimir. -1 imprime todos.\n",
        "    \"\"\"\n",
        "    pesos_features = pesos_de_features(score_fn, train_fold, train_targets_fold)\n",
        "    # conseguir los indices que ordenarian a \"pesos\". Como argsort solo ordena en orden ascendente, damos vuelta el arreglo\n",
        "    indice_orden_desc_pesos = np.argsort(pesos_features)[::-1]\n",
        "    if top_n == -1:\n",
        "        top_n = train_fold.shape[1]\n",
        "    for i in range(0,top_n):\n",
        "        print(nombres_features[indice_orden_desc_pesos[i]],'\\t',pesos_features[indice_orden_desc_pesos[i]])\n",
        "\n",
        "\n",
        "def nombres_features_seleccionadas(selector_features, nombres_features):\n",
        "    \"\"\"\n",
        "    Esta funcion retorna los nombres de las columnas seleccionadas como mejores por selector_features.\n",
        "    :param  selector_features: Una funcion de sklearn que puede evaluar los scores de columna y seleccionar las mejores. Puede ser SelectKBest, GenericUnivariateSelect o SelectPercentile.\n",
        "    :param  nombres_features: Una lista de nombres de columnas. El orden de las columnas tiene que ser el mismo que el de la matriz con la que se evaluo a selector_features.\n",
        "    :return new_features: Una lista de nombres de features que se corresponde con las seleccionadas por selector_features.\n",
        "    \"\"\"\n",
        "    cols = selector_features.get_support()\n",
        "    new_features = []\n",
        "    for selected, feature in zip(cols, nombres_features):\n",
        "        if selected:\n",
        "            new_features.append(feature)\n",
        "    return new_features"
      ],
      "id": "599d562d-e735-40eb-8e05-3ac62c494ee3",
      "execution_count": 2,
      "outputs": []
    },
    {
      "cell_type": "code",
      "metadata": {
        "id": "aaf16762-0ffc-4957-97ad-fa7e713aebec"
      },
      "source": [
        "# leer dataset\n",
        "vectores = joblib.load(\"/content/vectores.joblib\")\n",
        "nombres_targets = joblib.load(\"/content/targets.joblib\")\n",
        "nombres_features = joblib.load(\"/content/features.joblib\")\n",
        "\n",
        "# pasar categorias a numeros (1ra categoria = 0, 2da categoria = 1, etc)\n",
        "label_encoder = LabelEncoder()\n",
        "targets = label_encoder.fit_transform(nombres_targets)\n",
        "\n",
        "# idx_a_clase es un diccionario indice de categoria -> nombre de categoria\n",
        "idx_a_clase = label_encoder.classes_\n",
        "\n",
        "# cantidad de categorias distintas que tenemos en el conj. de entrenamiento\n",
        "n_categorias = len(idx_a_clase)\n",
        "\n",
        "# el clasificador que vamos a usar\n",
        "clasificador = SVC(kernel='linear', probability=True)\n",
        "\n",
        "# cantidad maxima de features que seleccionara el extractor de features\n",
        "MAX_FEATURES=150\n",
        "# cantida de folds a usar en cross-val\n",
        "CANT_FOLDS_CV=5\n",
        "\n",
        "# transformar los targets en N columnas, 1 por cada categoria, donde la categoria correcta tiene un 1 y todas las demas columnas en esa fila tienen 0.\n",
        "# Dado que AUC se calcula sobre 2 categorias, Usamos esto luego para calcular 1 AUC por cada categoria\n",
        "targets_binarios_por_clase = label_binarize(targets, classes=range(0, n_categorias))\n",
        "\n",
        "# hacer cross-validation\n",
        "n_fold = 1\n",
        "accuracy_promedio = 0"
      ],
      "id": "aaf16762-0ffc-4957-97ad-fa7e713aebec",
      "execution_count": 3,
      "outputs": []
    },
    {
      "cell_type": "code",
      "metadata": {
        "id": "e0ea8974-2d9d-4ac0-9580-43f3e08aa512",
        "outputId": "560bdb43-62ff-48b4-f4e5-e95725fed9df",
        "colab": {
          "base_uri": "https://localhost:8080/",
          "height": 1000
        }
      },
      "source": [
        "for train_index, test_index in StratifiedKFold(n_splits=CANT_FOLDS_CV, random_state=None, shuffle=True).split(vectores, targets):\n",
        "    # armar folds de entrenamiento para CV\n",
        "    train_fold = vectores[train_index]\n",
        "    train_targets_fold = targets[train_index]\n",
        "    \n",
        "    # armar fold de test para CV\n",
        "    test_fold = vectores[test_index]\n",
        "    test_targets_fold = targets[test_index]\n",
        "\n",
        "    # imprimir_features_con_pesos(chi2,train_fold, train_targets_fold, nombres_features, MAX_FEATURES)\n",
        "\n",
        "    # seleccionar features a partir de los folds de entrenamiento\n",
        "    selector_features = SelectKBest(score_func=chi2, k=MAX_FEATURES)\n",
        "    selector_features.fit(train_fold, train_targets_fold)\n",
        "\n",
        "    # dejar en el fold de entrenamiento solo las features seleccionadas con el fold de entrenamiento\n",
        "    train_fold_selected = selector_features.transform(train_fold)\n",
        "\n",
        "    # dejar en el fold de test solo las features seleccionadas con el fold de entrenamiento\n",
        "    test_fold_selected = selector_features.transform(test_fold)\n",
        "    selector_features.get_support()\n",
        "    \n",
        "    # clasificar el fold de test\n",
        "    preds_fold = clasificador.fit(train_fold_selected, train_targets_fold).predict(test_fold_selected)\n",
        "\n",
        "    print(\"FOLD #{}, # instancias train = {}, # instancias test = {}\".format(n_fold, train_fold.shape[0], test_fold_selected.shape[0]))\n",
        "    print(\"FEATURES SELECCIONADAS:\")\n",
        "    print(nombres_features_seleccionadas(selector_features, nombres_features))\n",
        "    \n",
        "    # evaluar accuracy comparando las categorias reales con las predichas\n",
        "    accuracy_fold = accuracy_score(test_targets_fold, preds_fold)\n",
        "    accuracy_promedio += accuracy_fold\n",
        "    print(\"Accuracy del fold #{} = {}\".format(n_fold, accuracy_fold))\n",
        "\n",
        "    # evaluar AUC, 1 AUC para cada categoria\n",
        "    calcular_e_imprimir_auc(clasificador, train_fold_selected, targets_binarios_por_clase[train_index], test_fold_selected, targets_binarios_por_clase[test_index])\n",
        "\n",
        "    print(\"\\tMatriz de confusion (filas=real, columnas=prediccion):\")\n",
        "    mat_conf = confusion_matrix(test_targets_fold, preds_fold)\n",
        "    print(mat_conf)\n",
        "    n_fold += 1\n",
        "\n",
        "print(\"\\nAccuracy promedio = {}\".format(accuracy_promedio / CANT_FOLDS_CV))"
      ],
      "id": "e0ea8974-2d9d-4ac0-9580-43f3e08aa512",
      "execution_count": 6,
      "outputs": [
        {
          "output_type": "stream",
          "name": "stdout",
          "text": [
            "FOLD #1, # instancias train = 7920, # instancias test = 1980\n",
            "FEATURES SELECCIONADAS:\n",
            "['actividad', 'afip', 'aires', 'ano', 'argentina', 'aumento', 'aumentos', 'banco', 'banco central', 'biden', 'bienes', 'blue', 'bolivia', 'bolsonaro', 'bonos', 'brasil', 'buenos', 'buenos aires', 'cambiaria', 'campana', 'candidato', 'carne', 'casa blanca', 'casos', 'castillo', 'central', 'cielo', 'ciento', 'ciento del', 'ciudad', 'comercio', 'consumo', 'contra', 'coronavirus', 'cotizacion', 'crecimiento', 'credito', 'del ano', 'del ciento', 'del dolar', 'del mercado', 'del partido', 'democracia', 'democrata', 'derecha', 'desarrollo', 'desarrollo productivo', 'despues', 'deuda', 'dijo', 'divisas', 'dni', 'dni terminados', 'dolar', 'dolares', 'donald', 'donald trump', 'dosis', 'economia', 'economica', 'economico', 'eleccion', 'elecciones', 'electoral', 'empresas', 'estados', 'estados unidos', 'estadounidense', 'estadounidenses', 'etchevehere', 'exportacion', 'exportaciones', 'expresidente', 'financiamiento', 'fmi', 'fondo', 'fraude', 'fuerzas', 'ganancias', 'gas', 'gobierno', 'golpe', 'grados', 'guzman', 'han', 'impuesto', 'incremento', 'indec', 'industria', 'industrial', 'inflacion', 'ingresos', 'interanual', 'inversion', 'izquierda', 'joe', 'joe biden', 'lider', 'liquidacion', 'lula', 'macri', 'mandatario', 'mercado', 'mes', 'mil millones', 'militares', 'millones', 'millones dolares', 'millones pesos', 'ministro', 'morales', 'muertos', 'mujer', 'nublado', 'pago', 'pais', 'partido', 'personas', 'pesos', 'policia', 'politica', 'precio', 'precios', 'presidente', 'primer ministro', 'produccion', 'productivo', 'productos', 'protestas', 'pueblo', 'pymes', 'recuperacion', 'respecto', 'salarios', 'salud', 'sector', 'sectores', 'suba', 'tasa', 'terminados', 'tipo cambio', 'trimestre', 'trump', 'unidos', 'ventas', 'victoria', 'vientos', 'vientos del', 'voto', 'votos']\n",
            "Accuracy del fold #1 = 0.8702020202020202\n",
            "\tAUC para la clase #0 (economy) = 0.943560606060606\n",
            "\tAUC para la clase #1 (society) = 0.8583333333333333\n",
            "\tAUC para la clase #2 (world) = 0.890530303030303\n",
            "\tMatriz de confusion (filas=real, columnas=prediccion):\n",
            "[[609  41  10]\n",
            " [ 36 566  58]\n",
            " [  9 103 548]]\n",
            "FOLD #2, # instancias train = 7920, # instancias test = 1980\n",
            "FEATURES SELECCIONADAS:\n",
            "['actividad', 'afganistan', 'afip', 'aires', 'ano', 'argentina', 'aumento', 'aumentos', 'banco', 'banco central', 'biden', 'bienes', 'blue', 'bolivia', 'bolsonaro', 'bonos', 'brasil', 'buenos', 'buenos aires', 'cambiaria', 'campana', 'candidato', 'carne', 'casa blanca', 'casos', 'castillo', 'central', 'cielo', 'ciento', 'ciento del', 'ciudad', 'comercio', 'consumo', 'contra', 'coronavirus', 'cotizacion', 'crecimiento', 'credito', 'del ano', 'del ciento', 'del dolar', 'del mercado', 'del partido', 'del presidente', 'democracia', 'democrata', 'derecha', 'desarrollo', 'desarrollo productivo', 'despues', 'deuda', 'dijo', 'divisas', 'dni', 'dni terminados', 'dolar', 'dolares', 'donald', 'donald trump', 'dosis', 'economia', 'economica', 'economico', 'ejercito', 'eleccion', 'elecciones', 'electoral', 'empresas', 'estados', 'estados unidos', 'estadounidense', 'estadounidenses', 'exportacion', 'exportaciones', 'expresidente', 'fmi', 'fuerzas', 'ganancias', 'gobierno', 'golpe', 'grados', 'guzman', 'han', 'impuesto', 'incremento', 'indec', 'industria', 'industrial', 'inflacion', 'ingresos', 'interanual', 'inversion', 'izquierda', 'joe', 'joe biden', 'lider', 'liquidacion', 'lula', 'macri', 'mandatario', 'me', 'mercado', 'mes', 'militares', 'millones', 'millones dolares', 'millones pesos', 'morales', 'muertos', 'mujer', 'nublado', 'pago', 'pais', 'partido', 'personas', 'pesos', 'policia', 'politica', 'politico', 'precio', 'precios', 'presidente', 'primer ministro', 'produccion', 'productivo', 'productos', 'protestas', 'pueblo', 'pymes', 'recuperacion', 'respecto', 'salarios', 'salud', 'sector', 'sectores', 'suba', 'talibanes', 'tasa', 'terminados', 'tipo cambio', 'trimestre', 'trump', 'unidos', 'ventas', 'vientos', 'vientos del', 'voto', 'votos', 'vuelta', 'washington']\n",
            "Accuracy del fold #2 = 0.8717171717171717\n",
            "\tAUC para la clase #0 (economy) = 0.9420454545454546\n",
            "\tAUC para la clase #1 (society) = 0.8643939393939394\n",
            "\tAUC para la clase #2 (world) = 0.8893939393939394\n",
            "\tMatriz de confusion (filas=real, columnas=prediccion):\n",
            "[[611  43   6]\n",
            " [ 25 574  61]\n",
            " [ 12 107 541]]\n",
            "FOLD #3, # instancias train = 7920, # instancias test = 1980\n",
            "FEATURES SELECCIONADAS:\n",
            "['actividad', 'afganistan', 'afip', 'aires', 'ano', 'arce', 'argentina', 'aumento', 'aumentos', 'banco', 'banco central', 'biden', 'bienes', 'blue', 'bolivia', 'bolsonaro', 'bonos', 'brasil', 'buenos', 'buenos aires', 'cambiaria', 'campana', 'candidato', 'carne', 'casa blanca', 'casos', 'castillo', 'central', 'cielo', 'ciento', 'ciento del', 'ciudad', 'comercio', 'compra', 'consumo', 'contra', 'coronavirus', 'cotizacion', 'crecimiento', 'credito', 'del ano', 'del ciento', 'del dolar', 'del mercado', 'del partido', 'democracia', 'democrata', 'derecha', 'desarrollo', 'desarrollo productivo', 'despues', 'deuda', 'dijo', 'divisas', 'dni', 'dni terminados', 'dolar', 'dolares', 'donald', 'donald trump', 'dosis', 'economia', 'economica', 'economico', 'ejercito', 'eleccion', 'elecciones', 'electoral', 'empresas', 'estados', 'estados unidos', 'estadounidense', 'estadounidenses', 'etchevehere', 'exportacion', 'exportaciones', 'expresidente', 'fmi', 'fuerzas', 'ganancias', 'gas', 'gobierno', 'golpe', 'grados', 'guzman', 'han', 'impuesto', 'incremento', 'indec', 'industria', 'industrial', 'inflacion', 'ingresos', 'interanual', 'inversion', 'izquierda', 'joe', 'joe biden', 'lider', 'liquidacion', 'lula', 'macri', 'mandatario', 'mercado', 'mes', 'mil millones', 'militar', 'militares', 'millones', 'millones dolares', 'millones pesos', 'morales', 'muertos', 'mujer', 'nublado', 'pago', 'pais', 'partido', 'personas', 'pesos', 'policia', 'politica', 'precio', 'precios', 'presidente', 'primer ministro', 'produccion', 'productivo', 'productos', 'protestas', 'pueblo', 'pymes', 'recuperacion', 'respecto', 'salarios', 'salud', 'sector', 'sectores', 'suba', 'tasa', 'terminados', 'tipo cambio', 'trimestre', 'trump', 'unidos', 'ventas', 'vientos', 'vientos del', 'voto', 'votos']\n",
            "Accuracy del fold #3 = 0.8909090909090909\n",
            "\tAUC para la clase #0 (economy) = 0.9571969696969695\n",
            "\tAUC para la clase #1 (society) = 0.881060606060606\n",
            "\tAUC para la clase #2 (world) = 0.8916666666666666\n",
            "\tMatriz de confusion (filas=real, columnas=prediccion):\n",
            "[[616  38   6]\n",
            " [ 19 594  47]\n",
            " [  8  98 554]]\n",
            "FOLD #4, # instancias train = 7920, # instancias test = 1980\n",
            "FEATURES SELECCIONADAS:\n",
            "['actividad', 'afganistan', 'afip', 'aires', 'ano', 'arce', 'argentina', 'aumento', 'aumentos', 'banco', 'banco central', 'biden', 'bienes', 'blue', 'bolivia', 'bolsonaro', 'bonos', 'brasil', 'buenos', 'buenos aires', 'caida', 'campana', 'candidato', 'carne', 'casa blanca', 'casos', 'castillo', 'central', 'cielo', 'ciento', 'ciento del', 'ciudad', 'comercio', 'consumo', 'contra', 'coronavirus', 'cotizacion', 'crecimiento', 'credito', 'del ano', 'del ciento', 'del dolar', 'del mercado', 'del partido', 'del presidente', 'democracia', 'democrata', 'derecha', 'desarrollo', 'desarrollo productivo', 'despues', 'deuda', 'dijo', 'divisas', 'dni', 'dni terminados', 'dolar', 'dolares', 'donald', 'donald trump', 'dosis', 'economia', 'economica', 'economico', 'eleccion', 'elecciones', 'electoral', 'empresas', 'estados', 'estados unidos', 'estadounidense', 'estadounidenses', 'etchevehere', 'evo', 'exportacion', 'exportaciones', 'expresidente', 'financiamiento', 'fmi', 'fraude', 'fuerzas', 'ganancias', 'gas', 'gobierno', 'golpe', 'grados', 'guzman', 'han', 'impuesto', 'incremento', 'indec', 'industria', 'inflacion', 'ingresos', 'interanual', 'inversion', 'izquierda', 'joe', 'joe biden', 'lider', 'liquidacion', 'lula', 'macri', 'mandatario', 'mercado', 'mes', 'mil millones', 'militares', 'millones', 'millones dolares', 'millones pesos', 'ministro', 'morales', 'muertos', 'nublado', 'pago', 'pais', 'partido', 'personas', 'pesos', 'policia', 'precio', 'precios', 'presidente', 'primer ministro', 'produccion', 'productivo', 'productos', 'protestas', 'pueblo', 'pymes', 'recuperacion', 'respecto', 'salarios', 'salud', 'sector', 'sectores', 'suba', 'talibanes', 'tasa', 'terminados', 'tipo cambio', 'trimestre', 'trump', 'unidos', 'ventas', 'vientos', 'vientos del', 'voto', 'votos']\n",
            "Accuracy del fold #4 = 0.8929292929292929\n",
            "\tAUC para la clase #0 (economy) = 0.9443181818181818\n",
            "\tAUC para la clase #1 (society) = 0.8825757575757576\n",
            "\tAUC para la clase #2 (world) = 0.8973484848484848\n",
            "\tMatriz de confusion (filas=real, columnas=prediccion):\n",
            "[[616  39   5]\n",
            " [ 25 593  42]\n",
            " [ 11  90 559]]\n",
            "FOLD #5, # instancias train = 7920, # instancias test = 1980\n",
            "FEATURES SELECCIONADAS:\n",
            "['actividad', 'afganistan', 'afip', 'aires', 'ano', 'arce', 'argentina', 'aumento', 'aumentos', 'banco', 'banco central', 'biden', 'bienes', 'blue', 'bolivia', 'bolsonaro', 'bonos', 'brasil', 'buenos', 'buenos aires', 'cambiaria', 'campana', 'candidato', 'carne', 'casa blanca', 'casos', 'castillo', 'central', 'cielo', 'ciento', 'ciento del', 'ciudad', 'comercio', 'consumo', 'contra', 'coronavirus', 'cotizacion', 'crecimiento', 'credito', 'del ano', 'del ciento', 'del dolar', 'del mercado', 'democracia', 'democrata', 'derecha', 'desarrollo', 'desarrollo productivo', 'despues', 'deuda', 'dijo', 'divisas', 'dni', 'dni terminados', 'dolar', 'dolares', 'donald', 'donald trump', 'dosis', 'economia', 'economica', 'economico', 'eleccion', 'elecciones', 'electoral', 'empresas', 'estados', 'estados unidos', 'estadounidense', 'estadounidenses', 'etchevehere', 'exportacion', 'exportaciones', 'expresidente', 'financiamiento', 'fmi', 'fondo', 'fuerzas', 'ganancias', 'gas', 'gobierno', 'golpe', 'grados', 'guzman', 'han', 'impuesto', 'incremento', 'indec', 'industria', 'inflacion', 'ingresos', 'interanual', 'inversion', 'inversiones', 'izquierda', 'joe', 'joe biden', 'lider', 'liquidacion', 'lula', 'macri', 'mandatario', 'mercado', 'mes', 'mil millones', 'militares', 'millones', 'millones dolares', 'millones pesos', 'ministro', 'monto', 'morales', 'muertos', 'nublado', 'pago', 'pais', 'partido', 'personas', 'pesos', 'policia', 'politica', 'precio', 'precios', 'presidente', 'primer ministro', 'produccion', 'productivo', 'productos', 'protestas', 'pueblo', 'pymes', 'recuperacion', 'respecto', 'salarios', 'salud', 'sector', 'sectores', 'sexual', 'suba', 'tasa', 'terminados', 'tipo cambio', 'trimestre', 'trump', 'unidos', 'ventas', 'vientos', 'vientos del', 'voto', 'votos']\n",
            "Accuracy del fold #5 = 0.8707070707070707\n",
            "\tAUC para la clase #0 (economy) = 0.928030303030303\n",
            "\tAUC para la clase #1 (society) = 0.8852272727272728\n",
            "\tAUC para la clase #2 (world) = 0.8799242424242424\n",
            "\tMatriz de confusion (filas=real, columnas=prediccion):\n",
            "[[610  43   7]\n",
            " [ 26 594  40]\n",
            " [ 29 111 520]]\n"
          ]
        },
        {
          "output_type": "error",
          "ename": "NameError",
          "evalue": "ignored",
          "traceback": [
            "\u001b[0;31m---------------------------------------------------------------------------\u001b[0m",
            "\u001b[0;31mNameError\u001b[0m                                 Traceback (most recent call last)",
            "\u001b[0;32m<ipython-input-6-ba58e7a01bea>\u001b[0m in \u001b[0;36m<module>\u001b[0;34m()\u001b[0m\n\u001b[1;32m     41\u001b[0m     \u001b[0mn_fold\u001b[0m \u001b[0;34m+=\u001b[0m \u001b[0;36m1\u001b[0m\u001b[0;34m\u001b[0m\u001b[0;34m\u001b[0m\u001b[0m\n\u001b[1;32m     42\u001b[0m \u001b[0;34m\u001b[0m\u001b[0m\n\u001b[0;32m---> 43\u001b[0;31m \u001b[0mprint\u001b[0m\u001b[0;34m(\u001b[0m\u001b[0;34m\"\\nAccuracy promedio = {}\"\u001b[0m\u001b[0;34m.\u001b[0m\u001b[0mformat\u001b[0m\u001b[0;34m(\u001b[0m\u001b[0maccuracy_promedio\u001b[0m \u001b[0;34m/\u001b[0m \u001b[0mn_folds\u001b[0m\u001b[0;34m)\u001b[0m\u001b[0;34m)\u001b[0m\u001b[0;34m\u001b[0m\u001b[0;34m\u001b[0m\u001b[0m\n\u001b[0m",
            "\u001b[0;31mNameError\u001b[0m: name 'n_folds' is not defined"
          ]
        }
      ]
    },
    {
      "cell_type": "code",
      "metadata": {
        "id": "0e4edaac-cc55-4248-baef-30b065fd0330",
        "outputId": "3fffdf18-5683-434e-ea3c-b501200a4866",
        "colab": {
          "base_uri": "https://localhost:8080/"
        }
      },
      "source": [
        "print(\"\\nAccuracy promedio = {}\".format(accuracy_promedio / CANT_FOLDS_CV))"
      ],
      "id": "0e4edaac-cc55-4248-baef-30b065fd0330",
      "execution_count": 10,
      "outputs": [
        {
          "output_type": "stream",
          "name": "stdout",
          "text": [
            "\n",
            "Accuracy promedio = 0.8792929292929292\n"
          ]
        }
      ]
    },
    {
      "cell_type": "code",
      "metadata": {
        "id": "fe3sePLhH4tk",
        "outputId": "14c98095-9056-46a0-9a46-882b0bbb911a",
        "colab": {
          "base_uri": "https://localhost:8080/"
        }
      },
      "source": [
        "n_fold"
      ],
      "id": "fe3sePLhH4tk",
      "execution_count": 8,
      "outputs": [
        {
          "output_type": "execute_result",
          "data": {
            "text/plain": [
              "6"
            ]
          },
          "metadata": {},
          "execution_count": 8
        }
      ]
    },
    {
      "cell_type": "code",
      "metadata": {
        "id": "pPBxT-f3H8fz"
      },
      "source": [
        ""
      ],
      "id": "pPBxT-f3H8fz",
      "execution_count": null,
      "outputs": []
    }
  ]
}